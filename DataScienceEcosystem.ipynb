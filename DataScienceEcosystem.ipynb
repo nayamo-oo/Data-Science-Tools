{
 "cells": [
  {
   "cell_type": "markdown",
   "id": "f0693750-3517-4631-9fc1-073a5a61c7b2",
   "metadata": {},
   "source": [
    "# Data Science Tools and Ecosystem"
   ]
  },
  {
   "cell_type": "markdown",
   "id": "4656b15f-4bb0-4224-a55c-69f604621462",
   "metadata": {},
   "source": [
    "In this notebook, Data Science Tools and Ecosystem are summarized."
   ]
  },
  {
   "cell_type": "markdown",
   "id": "e5cec12d-e308-4d9a-b717-d363001b2667",
   "metadata": {},
   "source": [
    "Some of the popular languages that Data Scientists use are: \n",
    "1. Python\n",
    "2. Java\n",
    "3. R"
   ]
  },
  {
   "cell_type": "markdown",
   "id": "bb1cfb99-f5f6-4ea2-88e7-3bc8d990e91f",
   "metadata": {},
   "source": [
    "Some of the commonly used libraries used by Data Scientists include:\n",
    "1. Seaborn\n",
    "2. Pandas\n",
    "3. Pytorch"
   ]
  },
  {
   "cell_type": "markdown",
   "id": "7cb13db9-da99-42e5-9c60-3c71b2e597d1",
   "metadata": {
    "tags": []
   },
   "source": [
    "| Data Science Tools |\n",
    "| ------------------ |\n",
    "| RStudio |\n",
    "| Apache Spark |\n",
    "| TensorFlow |\n"
   ]
  },
  {
   "cell_type": "code",
   "execution_count": 7,
   "id": "36f1b5d8-b195-4e55-9104-533a5791a88e",
   "metadata": {
    "tags": []
   },
   "outputs": [],
   "source": [
    "### Below are a few examples of evaluating arithmetic expressions in Python"
   ]
  },
  {
   "cell_type": "code",
   "execution_count": 8,
   "id": "c9082f7f-6915-459a-af3c-8ae29c20b9d4",
   "metadata": {
    "tags": []
   },
   "outputs": [
    {
     "data": {
      "text/plain": [
       "17"
      ]
     },
     "execution_count": 8,
     "metadata": {},
     "output_type": "execute_result"
    }
   ],
   "source": [
    "(3*4)+5\n",
    "#This a simple arithmetic expression to mutiply then add integers"
   ]
  },
  {
   "cell_type": "code",
   "execution_count": 9,
   "id": "2376b302-5f51-4694-b93e-e7539c12104f",
   "metadata": {
    "tags": []
   },
   "outputs": [
    {
     "data": {
      "text/plain": [
       "3.3333333333333335"
      ]
     },
     "execution_count": 9,
     "metadata": {},
     "output_type": "execute_result"
    }
   ],
   "source": [
    "200/60\n",
    "#This will convert 200 minutes to hours by diving by 60"
   ]
  },
  {
   "cell_type": "markdown",
   "id": "59fc153c-21fc-47ea-b20f-b6b15f8a6d8f",
   "metadata": {},
   "source": [
    "**Objectives:**\n",
    "- list data science languages\n",
    "- list data science libraries\n",
    "- showcase data science tools in a table\n",
    "- introduce arithematic expressions\n"
   ]
  },
  {
   "cell_type": "markdown",
   "id": "b98965c0-dc60-4480-82ca-fed8ef6a282e",
   "metadata": {
    "tags": []
   },
   "source": [
    "## Author\n",
    "Nayamo"
   ]
  }
 ],
 "metadata": {
  "kernelspec": {
   "display_name": "Python",
   "language": "python",
   "name": "conda-env-python-py"
  },
  "language_info": {
   "codemirror_mode": {
    "name": "ipython",
    "version": 3
   },
   "file_extension": ".py",
   "mimetype": "text/x-python",
   "name": "python",
   "nbconvert_exporter": "python",
   "pygments_lexer": "ipython3",
   "version": "3.7.12"
  }
 },
 "nbformat": 4,
 "nbformat_minor": 5
}
